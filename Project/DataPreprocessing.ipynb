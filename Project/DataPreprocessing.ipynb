{
 "cells": [
  {
   "cell_type": "markdown",
   "metadata": {},
   "source": [
    " # Data Preprocessing"
   ]
  },
  {
   "cell_type": "code",
   "execution_count": 9,
   "metadata": {},
   "outputs": [],
   "source": [
    "CROHME_PATH = \"D:\\\\Ahmed\\\\AI\\\\OCR-master\\\\data\\\\crohme\\\\crohme\"\n",
    "EMNIST_PATH = 'D:\\\\Ahmed\\\\AI\\\\OCR-master\\\\data\\\\emnist\\\\'\n",
    "\n",
    "test_processed = EMNIST_PATH + 'processed_balanced_test.csv'\n",
    "test_raw = EMNIST_PATH + 'emnist-balanced-test.csv'\n",
    "\n",
    "train_processed = EMNIST_PATH + 'processed_balanced_train.csv'\n",
    "train_raw = EMNIST_PATH + 'emnist-balanced-train.csv'\n",
    "\n",
    "mapping_processed = EMNIST_PATH + 'processed-mapping.csv'\n",
    "mapping_raw = EMNIST_PATH + 'emnist-balanced-mapping.txt'"
   ]
  },
  {
   "cell_type": "markdown",
   "metadata": {},
   "source": [
    "## Remove duplicated images from CROHME dataset"
   ]
  },
  {
   "cell_type": "code",
   "execution_count": 5,
   "metadata": {},
   "outputs": [
    {
     "name": "stdout",
     "output_type": "stream",
     "text": [
      "Directory: D:\\Ahmed\\AI\\OCR-master\\data\\crohme\\crohme\\!\n"
     ]
    },
    {
     "name": "stderr",
     "output_type": "stream",
     "text": [
      "C:\\Users\\ahmed\\AppData\\Roaming\\Python\\Python37\\site-packages\\ipykernel_launcher.py:18: DeprecationWarning: Starting with ImageIO v3 the behavior of this function will switch to that of iio.v3.imread. To keep the current behavior (and make this warning disappear) use `import imageio.v2 as imageio` or call `imageio.v2.imread` directly.\n"
     ]
    },
    {
     "name": "stdout",
     "output_type": "stream",
     "text": [
      "Repeat/Total: 0/224\n",
      "Directory: D:\\Ahmed\\AI\\OCR-master\\data\\crohme\\crohme\\(\n",
      "Repeat/Total: 0/3986\n",
      "Directory: D:\\Ahmed\\AI\\OCR-master\\data\\crohme\\crohme\\)\n",
      "Repeat/Total: 0/3978\n",
      "Directory: D:\\Ahmed\\AI\\OCR-master\\data\\crohme\\crohme\\+\n",
      "Repeat/Total: 0/5443\n",
      "Directory: D:\\Ahmed\\AI\\OCR-master\\data\\crohme\\crohme\\,\n",
      "Repeat/Total: 0/596\n",
      "Directory: D:\\Ahmed\\AI\\OCR-master\\data\\crohme\\crohme\\-\n",
      "Repeat/Total: 0/6022\n",
      "Directory: D:\\Ahmed\\AI\\OCR-master\\data\\crohme\\crohme\\0\n",
      "Repeat/Total: 0/1810\n",
      "Directory: D:\\Ahmed\\AI\\OCR-master\\data\\crohme\\crohme\\1\n",
      "Repeat/Total: 0/6327\n",
      "Directory: D:\\Ahmed\\AI\\OCR-master\\data\\crohme\\crohme\\2\n",
      "Repeat/Total: 0/6210\n",
      "Directory: D:\\Ahmed\\AI\\OCR-master\\data\\crohme\\crohme\\3\n",
      "Repeat/Total: 0/2469\n",
      "Directory: D:\\Ahmed\\AI\\OCR-master\\data\\crohme\\crohme\\4\n",
      "Repeat/Total: 0/1641\n",
      "Directory: D:\\Ahmed\\AI\\OCR-master\\data\\crohme\\crohme\\5\n",
      "Repeat/Total: 0/1008\n",
      "Directory: D:\\Ahmed\\AI\\OCR-master\\data\\crohme\\crohme\\6\n",
      "Repeat/Total: 0/812\n",
      "Directory: D:\\Ahmed\\AI\\OCR-master\\data\\crohme\\crohme\\7\n",
      "Repeat/Total: 0/753\n",
      "Directory: D:\\Ahmed\\AI\\OCR-master\\data\\crohme\\crohme\\8\n",
      "Repeat/Total: 0/731\n",
      "Directory: D:\\Ahmed\\AI\\OCR-master\\data\\crohme\\crohme\\9\n",
      "Repeat/Total: 0/742\n",
      "Directory: D:\\Ahmed\\AI\\OCR-master\\data\\crohme\\crohme\\=\n",
      "Repeat/Total: 0/3640\n",
      "Directory: D:\\Ahmed\\AI\\OCR-master\\data\\crohme\\crohme\\A\n",
      "Repeat/Total: 0/2724\n",
      "Directory: D:\\Ahmed\\AI\\OCR-master\\data\\crohme\\crohme\\alpha\n",
      "Repeat/Total: 0/383\n",
      "Directory: D:\\Ahmed\\AI\\OCR-master\\data\\crohme\\crohme\\ascii_124\n",
      "Repeat/Total: 0/348\n",
      "Directory: D:\\Ahmed\\AI\\OCR-master\\data\\crohme\\crohme\\b\n",
      "Repeat/Total: 0/1830\n",
      "Directory: D:\\Ahmed\\AI\\OCR-master\\data\\crohme\\crohme\\beta\n",
      "Repeat/Total: 0/295\n",
      "Directory: D:\\Ahmed\\AI\\OCR-master\\data\\crohme\\crohme\\C\n",
      "Repeat/Total: 0/1194\n",
      "Directory: D:\\Ahmed\\AI\\OCR-master\\data\\crohme\\crohme\\cos\n",
      "Repeat/Total: 0/574\n",
      "Directory: D:\\Ahmed\\AI\\OCR-master\\data\\crohme\\crohme\\d\n",
      "Repeat/Total: 0/1062\n",
      "Directory: D:\\Ahmed\\AI\\OCR-master\\data\\crohme\\crohme\\Delta\n",
      "Repeat/Total: 0/35\n",
      "Directory: D:\\Ahmed\\AI\\OCR-master\\data\\crohme\\crohme\\div\n",
      "Repeat/Total: 0/157\n",
      "Directory: D:\\Ahmed\\AI\\OCR-master\\data\\crohme\\crohme\\e\n",
      "Repeat/Total: 0/616\n",
      "Directory: D:\\Ahmed\\AI\\OCR-master\\data\\crohme\\crohme\\exists\n",
      "Repeat/Total: 0/4\n",
      "Directory: D:\\Ahmed\\AI\\OCR-master\\data\\crohme\\crohme\\f\n",
      "Repeat/Total: 0/848\n",
      "Directory: D:\\Ahmed\\AI\\OCR-master\\data\\crohme\\crohme\\forall\n",
      "Repeat/Total: 0/9\n",
      "Directory: D:\\Ahmed\\AI\\OCR-master\\data\\crohme\\crohme\\forward_slash\n",
      "Repeat/Total: 0/196\n",
      "Directory: D:\\Ahmed\\AI\\OCR-master\\data\\crohme\\crohme\\G\n",
      "Repeat/Total: 0/409\n",
      "Directory: D:\\Ahmed\\AI\\OCR-master\\data\\crohme\\crohme\\gamma\n",
      "Repeat/Total: 0/90\n",
      "Directory: D:\\Ahmed\\AI\\OCR-master\\data\\crohme\\crohme\\geq\n",
      "Repeat/Total: 0/147\n",
      "Directory: D:\\Ahmed\\AI\\OCR-master\\data\\crohme\\crohme\\gt\n",
      "Repeat/Total: 0/65\n",
      "Directory: D:\\Ahmed\\AI\\OCR-master\\data\\crohme\\crohme\\H\n",
      "Repeat/Total: 0/369\n",
      "Directory: D:\\Ahmed\\AI\\OCR-master\\data\\crohme\\crohme\\i\n",
      "Repeat/Total: 0/1027\n",
      "Directory: D:\\Ahmed\\AI\\OCR-master\\data\\crohme\\crohme\\in\n",
      "Repeat/Total: 0/15\n",
      "Directory: D:\\Ahmed\\AI\\OCR-master\\data\\crohme\\crohme\\infty\n",
      "Repeat/Total: 0/386\n",
      "Directory: D:\\Ahmed\\AI\\OCR-master\\data\\crohme\\crohme\\int\n",
      "Repeat/Total: 0/606\n",
      "Directory: D:\\Ahmed\\AI\\OCR-master\\data\\crohme\\crohme\\j\n",
      "Repeat/Total: 0/303\n",
      "Directory: D:\\Ahmed\\AI\\OCR-master\\data\\crohme\\crohme\\k\n",
      "Repeat/Total: 0/666\n",
      "Directory: D:\\Ahmed\\AI\\OCR-master\\data\\crohme\\crohme\\l\n",
      "Repeat/Total: 0/255\n",
      "Directory: D:\\Ahmed\\AI\\OCR-master\\data\\crohme\\crohme\\lambda\n",
      "Repeat/Total: 0/27\n",
      "Directory: D:\\Ahmed\\AI\\OCR-master\\data\\crohme\\crohme\\ldots\n",
      "Repeat/Total: 0/139\n",
      "Directory: D:\\Ahmed\\AI\\OCR-master\\data\\crohme\\crohme\\leq\n",
      "Repeat/Total: 0/220\n",
      "Directory: D:\\Ahmed\\AI\\OCR-master\\data\\crohme\\crohme\\lim\n",
      "Repeat/Total: 0/293\n",
      "Directory: D:\\Ahmed\\AI\\OCR-master\\data\\crohme\\crohme\\log\n",
      "Repeat/Total: 0/302\n",
      "Directory: D:\\Ahmed\\AI\\OCR-master\\data\\crohme\\crohme\\lt\n",
      "Repeat/Total: 0/106\n",
      "Directory: D:\\Ahmed\\AI\\OCR-master\\data\\crohme\\crohme\\M\n",
      "Repeat/Total: 0/576\n",
      "Directory: D:\\Ahmed\\AI\\OCR-master\\data\\crohme\\crohme\\mu\n",
      "Repeat/Total: 0/46\n",
      "Directory: D:\\Ahmed\\AI\\OCR-master\\data\\crohme\\crohme\\N\n",
      "Repeat/Total: 0/2403\n",
      "Directory: D:\\Ahmed\\AI\\OCR-master\\data\\crohme\\crohme\\neq\n",
      "Repeat/Total: 0/111\n",
      "Directory: D:\\Ahmed\\AI\\OCR-master\\data\\crohme\\crohme\\o\n",
      "Repeat/Total: 0/112\n",
      "Directory: D:\\Ahmed\\AI\\OCR-master\\data\\crohme\\crohme\\p\n",
      "Repeat/Total: 0/676\n",
      "Directory: D:\\Ahmed\\AI\\OCR-master\\data\\crohme\\crohme\\phi\n",
      "Repeat/Total: 0/83\n",
      "Directory: D:\\Ahmed\\AI\\OCR-master\\data\\crohme\\crohme\\pi\n",
      "Repeat/Total: 0/498\n",
      "Directory: D:\\Ahmed\\AI\\OCR-master\\data\\crohme\\crohme\\pm\n",
      "Repeat/Total: 0/153\n",
      "Directory: D:\\Ahmed\\AI\\OCR-master\\data\\crohme\\crohme\\prime\n",
      "Repeat/Total: 0/76\n",
      "Directory: D:\\Ahmed\\AI\\OCR-master\\data\\crohme\\crohme\\q\n",
      "Repeat/Total: 0/308\n",
      "Directory: D:\\Ahmed\\AI\\OCR-master\\data\\crohme\\crohme\\R\n",
      "Repeat/Total: 0/674\n",
      "Directory: D:\\Ahmed\\AI\\OCR-master\\data\\crohme\\crohme\\rightarrow\n",
      "Repeat/Total: 0/299\n",
      "Directory: D:\\Ahmed\\AI\\OCR-master\\data\\crohme\\crohme\\S\n",
      "Repeat/Total: 0/355\n",
      "Directory: D:\\Ahmed\\AI\\OCR-master\\data\\crohme\\crohme\\sigma\n",
      "Repeat/Total: 0/52\n",
      "Directory: D:\\Ahmed\\AI\\OCR-master\\data\\crohme\\crohme\\sin\n",
      "Repeat/Total: 0/783\n",
      "Directory: D:\\Ahmed\\AI\\OCR-master\\data\\crohme\\crohme\\sqrt\n",
      "Repeat/Total: 0/1649\n",
      "Directory: D:\\Ahmed\\AI\\OCR-master\\data\\crohme\\crohme\\sum\n",
      "Repeat/Total: 0/642\n",
      "Directory: D:\\Ahmed\\AI\\OCR-master\\data\\crohme\\crohme\\T\n",
      "Repeat/Total: 0/795\n",
      "Directory: D:\\Ahmed\\AI\\OCR-master\\data\\crohme\\crohme\\tan\n",
      "Repeat/Total: 0/281\n",
      "Directory: D:\\Ahmed\\AI\\OCR-master\\data\\crohme\\crohme\\theta\n",
      "Repeat/Total: 0/543\n",
      "Directory: D:\\Ahmed\\AI\\OCR-master\\data\\crohme\\crohme\\times\n",
      "Repeat/Total: 0/600\n",
      "Directory: D:\\Ahmed\\AI\\OCR-master\\data\\crohme\\crohme\\u\n",
      "Repeat/Total: 0/321\n",
      "Directory: D:\\Ahmed\\AI\\OCR-master\\data\\crohme\\crohme\\v\n",
      "Repeat/Total: 0/391\n",
      "Directory: D:\\Ahmed\\AI\\OCR-master\\data\\crohme\\crohme\\w\n",
      "Repeat/Total: 0/139\n",
      "Directory: D:\\Ahmed\\AI\\OCR-master\\data\\crohme\\crohme\\X\n",
      "Repeat/Total: 0/5333\n",
      "Directory: D:\\Ahmed\\AI\\OCR-master\\data\\crohme\\crohme\\y\n",
      "Repeat/Total: 0/1895\n",
      "Directory: D:\\Ahmed\\AI\\OCR-master\\data\\crohme\\crohme\\z\n",
      "Repeat/Total: 0/1075\n",
      "Directory: D:\\Ahmed\\AI\\OCR-master\\data\\crohme\\crohme\\[\n",
      "Repeat/Total: 0/201\n",
      "Directory: D:\\Ahmed\\AI\\OCR-master\\data\\crohme\\crohme\\]\n",
      "Repeat/Total: 0/201\n",
      "Directory: D:\\Ahmed\\AI\\OCR-master\\data\\crohme\\crohme\\{\n",
      "Repeat/Total: 0/69\n",
      "Directory: D:\\Ahmed\\AI\\OCR-master\\data\\crohme\\crohme\\}\n",
      "Repeat/Total: 0/69\n"
     ]
    }
   ],
   "source": [
    "import imageio\n",
    "import numpy as np\n",
    "import os\n",
    "\n",
    "# source - https://www.kaggle.com/xainano/handwrittenmathsymbols/discussion/85277\n",
    "def deletefromfolder(path):\n",
    "    datadir = path\n",
    "    print('Directory:', datadir)\n",
    "\n",
    "    rmmap = dict()\n",
    "    total = 0\n",
    "    repeatcnt = 0\n",
    "    for root, directories, filenames in os.walk(datadir):\n",
    "        for filename in filenames:\n",
    "            total += 1\n",
    "            if filename.endswith('.jpg') and not filename.startswith('._'):\n",
    "                filei = os.path.join(root, filename)\n",
    "                imi = imageio.imread(filei)\n",
    "                npi = np.asarray(imi).reshape(1, -1).reshape((2025, ))\n",
    "                idf = npi.tolist()\n",
    "                for i in range(len(idf)):\n",
    "                    idf[i] = str(idf[i])\n",
    "                strlist = ''.join(idf)\n",
    "\n",
    "                if strlist in rmmap.keys():\n",
    "                    repeatcnt += 1\n",
    "                    rmmap[strlist].append(filename)\n",
    "                else:\n",
    "                    rmmap[strlist] = list()\n",
    "\n",
    "    #for key in rmmap:\n",
    "    #    print(rmmap[key])\n",
    "    print('Repeat/Total: {}/{}'.format(repeatcnt, total))\n",
    "    for key in rmmap:\n",
    "        for item in rmmap[key]:\n",
    "            os.remove(os.path.join(datadir, item))\n",
    "\n",
    "dirlist = os.listdir(CROHME_PATH)\n",
    "for item in dirlist:\n",
    "    deletefromfolder(os.path.join(CROHME_PATH,item))\n",
    "    "
   ]
  },
  {
   "cell_type": "markdown",
   "metadata": {},
   "source": []
  },
  {
   "cell_type": "markdown",
   "metadata": {},
   "source": [
    "## Mapping"
   ]
  },
  {
   "cell_type": "code",
   "execution_count": 14,
   "metadata": {},
   "outputs": [],
   "source": [
    "import pandas as pd\n",
    "\n",
    "extra_chars = ['(', ')', '+', '-', '=']\n",
    "df = pd.read_csv(mapping_raw, sep = ' ', header=None, names=[\"id\", \"code\"])\n",
    "chars = []\n",
    "for x in df.code:\n",
    "    chars.append(chr(x))\n",
    "\n",
    "df[\"char\"] = chars\n",
    "nextId = df.shape[0]\n",
    "for i in range(nextId, nextId + len(extra_chars)):\n",
    "    c = extra_chars[i - nextId]\n",
    "    df.loc[i] = [i, ord(c), c]\n",
    "    \n",
    "df.to_csv(mapping_processed, index=False)"
   ]
  },
  {
   "cell_type": "markdown",
   "metadata": {},
   "source": [
    "## EMNIST data preprocessing"
   ]
  },
  {
   "cell_type": "code",
   "execution_count": 3,
   "metadata": {},
   "outputs": [],
   "source": [
    "import numpy as np\n",
    "import pandas as pd\n",
    "import os"
   ]
  },
  {
   "cell_type": "code",
   "execution_count": 4,
   "metadata": {},
   "outputs": [],
   "source": [
    "def mirror(X):\n",
    "    res = np.zeros(X.shape)\n",
    "    n = 28\n",
    "    for r in range(n, n**2 + 1, n):\n",
    "        l = r - n\n",
    "        for k in range(l, r):\n",
    "            index = l + (r - k - 1)\n",
    "            res[:,k] = X[:,index]\n",
    "            \n",
    "    return res        "
   ]
  },
  {
   "cell_type": "code",
   "execution_count": 5,
   "metadata": {},
   "outputs": [],
   "source": [
    "def rotate_clockwise(X):\n",
    "    res = np.zeros(X.shape)\n",
    "    size = 28\n",
    "    k = 0\n",
    "    for i in reversed(range(size)):\n",
    "        j = i\n",
    "        while j < size**2:\n",
    "            res[:,k] = X[:,j]\n",
    "            k += 1\n",
    "            j += size\n",
    "\n",
    "    return res\n",
    "\n",
    "def rotate(X, times):\n",
    "    for i in range(times):\n",
    "        X = rotate_clockwise(X)\n",
    "    \n",
    "    return X"
   ]
  },
  {
   "cell_type": "code",
   "execution_count": 6,
   "metadata": {},
   "outputs": [],
   "source": [
    "# TODO: remove one confusing character from pairs such as \"0\" and \"O\", \"I\", \"l\" and \"1\"\n",
    "def process_data(file_from, file_to):\n",
    "    label = 'label'\n",
    "    names = [label] + [\"px\" + str(i) for i in range(784)]\n",
    "    data = pd.read_csv(file_from, header=None, names=names)\n",
    "    \n",
    "    Y_data = data[label]\n",
    "    X_data = data.drop(labels = [label], axis = 1)\n",
    "    \n",
    "    X_data = X_data / 255\n",
    "    X_data = np.where(X_data > 0.5, 1, 0)\n",
    "    X_data = rotate(X_data, times=3)\n",
    "    X_data = mirror(X_data)\n",
    "    \n",
    "    data = pd.DataFrame(X_data, columns=names[1:], dtype='int')    \n",
    "    data.insert(0, label, Y_data)        \n",
    "    data.to_csv(file_to, index=False)"
   ]
  },
  {
   "cell_type": "code",
   "execution_count": 7,
   "metadata": {},
   "outputs": [],
   "source": [
    "process_data(train_raw, train_processed)\n",
    "process_data(test_raw, test_processed)"
   ]
  },
  {
   "cell_type": "markdown",
   "metadata": {},
   "source": [
    "## Image transformation to EMNIST format"
   ]
  },
  {
   "cell_type": "code",
   "execution_count": 7,
   "metadata": {},
   "outputs": [],
   "source": [
    "import os\n",
    "import numpy as np\n",
    "import pandas as pd\n",
    "from PIL import Image,ImageOps\n",
    "from random import sample "
   ]
  },
  {
   "cell_type": "code",
   "execution_count": 10,
   "metadata": {},
   "outputs": [],
   "source": [
    "df = pd.read_csv(mapping_processed)\n",
    "char2code = {}\n",
    "for index, row in df.iterrows():\n",
    "    char2code[row['char']] = row['id']"
   ]
  },
  {
   "cell_type": "code",
   "execution_count": 11,
   "metadata": {},
   "outputs": [],
   "source": [
    "import cv2\n",
    "\n",
    "def img2emnist(filepath, char_code):\n",
    "    img = cv2.imread(filepath, 0)\n",
    "    kernel = np.ones((3,3), np.uint8)\n",
    "    dilation = cv2.erode(img, kernel, iterations = 1)\n",
    "    \n",
    "    img = Image.fromarray(dilation).resize((28, 28))\n",
    "    inv_img = ImageOps.invert(img)\n",
    "    \n",
    "    flatten = np.array(inv_img).flatten()\n",
    "    flatten = flatten / 255\n",
    "    flatten = np.where(flatten > 0.5, 1, 0)\n",
    "    \n",
    "    csv_img = ','.join([str(num) for num in flatten])\n",
    "    csv_str = '{},{}'.format(char_code, csv_img)\n",
    "    return csv_str"
   ]
  },
  {
   "cell_type": "code",
   "execution_count": 12,
   "metadata": {},
   "outputs": [],
   "source": [
    "train_size = 2400\n",
    "test_size = 400"
   ]
  },
  {
   "cell_type": "code",
   "execution_count": 15,
   "metadata": {},
   "outputs": [
    {
     "name": "stdout",
     "output_type": "stream",
     "text": [
      "Processing \"(\" character...\n"
     ]
    },
    {
     "ename": "IndexError",
     "evalue": "list index out of range",
     "output_type": "error",
     "traceback": [
      "\u001b[1;31m---------------------------------------------------------------------------\u001b[0m",
      "\u001b[1;31mIndexError\u001b[0m                                Traceback (most recent call last)",
      "\u001b[1;32m~\\AppData\\Local\\Temp\\ipykernel_31820\\1804097383.py\u001b[0m in \u001b[0;36m<module>\u001b[1;34m\u001b[0m\n\u001b[0;32m      6\u001b[0m     \u001b[0mcurrent_dir\u001b[0m \u001b[1;33m=\u001b[0m \u001b[0mCROHME_PATH\u001b[0m \u001b[1;33m+\u001b[0m \u001b[0mc\u001b[0m \u001b[1;33m+\u001b[0m \u001b[1;34m'/'\u001b[0m\u001b[1;33m\u001b[0m\u001b[1;33m\u001b[0m\u001b[0m\n\u001b[0;32m      7\u001b[0m     \u001b[0mfiles\u001b[0m \u001b[1;33m=\u001b[0m \u001b[1;33m[\u001b[0m\u001b[0mf\u001b[0m \u001b[1;32mfor\u001b[0m \u001b[0mr\u001b[0m\u001b[1;33m,\u001b[0m \u001b[0md\u001b[0m\u001b[1;33m,\u001b[0m \u001b[0mf\u001b[0m \u001b[1;32min\u001b[0m \u001b[0mos\u001b[0m\u001b[1;33m.\u001b[0m\u001b[0mwalk\u001b[0m\u001b[1;33m(\u001b[0m\u001b[0mcurrent_dir\u001b[0m\u001b[1;33m)\u001b[0m\u001b[1;33m]\u001b[0m\u001b[1;33m\u001b[0m\u001b[1;33m\u001b[0m\u001b[0m\n\u001b[1;32m----> 8\u001b[1;33m     \u001b[0msubset\u001b[0m \u001b[1;33m=\u001b[0m \u001b[0msample\u001b[0m\u001b[1;33m(\u001b[0m\u001b[0mfiles\u001b[0m\u001b[1;33m[\u001b[0m\u001b[1;36m0\u001b[0m\u001b[1;33m]\u001b[0m\u001b[1;33m,\u001b[0m \u001b[0mtrain_size\u001b[0m \u001b[1;33m+\u001b[0m \u001b[0mtest_size\u001b[0m\u001b[1;33m)\u001b[0m\u001b[1;33m\u001b[0m\u001b[1;33m\u001b[0m\u001b[0m\n\u001b[0m\u001b[0;32m      9\u001b[0m     \u001b[0mtrain_subset\u001b[0m \u001b[1;33m=\u001b[0m \u001b[0msubset\u001b[0m\u001b[1;33m[\u001b[0m\u001b[1;36m0\u001b[0m\u001b[1;33m:\u001b[0m\u001b[0mtrain_size\u001b[0m\u001b[1;33m]\u001b[0m\u001b[1;33m\u001b[0m\u001b[1;33m\u001b[0m\u001b[0m\n\u001b[0;32m     10\u001b[0m     \u001b[0mtest_subset\u001b[0m \u001b[1;33m=\u001b[0m \u001b[0msubset\u001b[0m\u001b[1;33m[\u001b[0m\u001b[0mtrain_size\u001b[0m\u001b[1;33m:\u001b[0m\u001b[0mtrain_size\u001b[0m \u001b[1;33m+\u001b[0m \u001b[0mtest_size\u001b[0m\u001b[1;33m]\u001b[0m\u001b[1;33m\u001b[0m\u001b[1;33m\u001b[0m\u001b[0m\n",
      "\u001b[1;31mIndexError\u001b[0m: list index out of range"
     ]
    }
   ],
   "source": [
    "f_test = open(test_processed, 'a')\n",
    "f_train = open(train_processed, 'a')\n",
    "\n",
    "for c in extra_chars:\n",
    "    print('Processing \"{}\" character...'.format(c))\n",
    "    current_dir = CROHME_PATH + c + '/'\n",
    "    files = [f for r, d, f in os.walk(current_dir)]\n",
    "    subset = sample(files[0], train_size + test_size)\n",
    "    train_subset = subset[0:train_size]\n",
    "    test_subset = subset[train_size:train_size + test_size]\n",
    "    \n",
    "    for filename in train_subset:\n",
    "        csv_str = img2emnist(current_dir + filename, char2code[c])\n",
    "        print(csv_str, file=f_train)\n",
    "    \n",
    "    for filename in test_subset:\n",
    "        csv_str = img2emnist(current_dir + filename, char2code[c])\n",
    "        print(csv_str, file=f_test)\n",
    "\n",
    "f_test.close()\n",
    "f_train.close()"
   ]
  }
 ],
 "metadata": {
  "kernelspec": {
   "display_name": "Python 3",
   "language": "python",
   "name": "python3"
  },
  "language_info": {
   "codemirror_mode": {
    "name": "ipython",
    "version": 3
   },
   "file_extension": ".py",
   "mimetype": "text/x-python",
   "name": "python",
   "nbconvert_exporter": "python",
   "pygments_lexer": "ipython3",
   "version": "3.7.4"
  }
 },
 "nbformat": 4,
 "nbformat_minor": 2
}
